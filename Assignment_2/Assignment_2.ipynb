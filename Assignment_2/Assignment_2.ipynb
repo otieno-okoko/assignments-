{
 "cells": [
  {
   "cell_type": "markdown",
   "metadata": {},
   "source": [
    "Part I: Lists and Loops"
   ]
  },
  {
   "cell_type": "markdown",
   "metadata": {},
   "source": [
    "1. Create a list with the names of every planet in the solar system (in order)"
   ]
  },
  {
   "cell_type": "code",
   "execution_count": 12,
   "metadata": {},
   "outputs": [
    {
     "name": "stdout",
     "output_type": "stream",
     "text": [
      "['Mercury', 'Venus', 'Earth', 'Mars', 'Jupiter', 'Saturn', 'Uranus', 'Neptune']\n"
     ]
    },
    {
     "data": {
      "text/plain": [
       "list"
      ]
     },
     "execution_count": 12,
     "metadata": {},
     "output_type": "execute_result"
    }
   ],
   "source": [
    "planets = ['Mercury', 'Venus', 'Earth', 'Mars', 'Jupiter', 'Saturn', 'Uranus','Neptune']\n",
    "print(planets)\n",
    "type(planets)"
   ]
  },
  {
   "cell_type": "markdown",
   "metadata": {},
   "source": [
    "2. Have Python tell you how many planets there are by examining your list"
   ]
  },
  {
   "cell_type": "code",
   "execution_count": 13,
   "metadata": {},
   "outputs": [
    {
     "data": {
      "text/plain": [
       "8"
      ]
     },
     "execution_count": 13,
     "metadata": {},
     "output_type": "execute_result"
    }
   ],
   "source": [
    "len(planets)"
   ]
  },
  {
   "cell_type": "markdown",
   "metadata": {},
   "source": [
    "3. Use slicing to display the first four planets (the rocky planets)"
   ]
  },
  {
   "cell_type": "code",
   "execution_count": 14,
   "metadata": {},
   "outputs": [
    {
     "data": {
      "text/plain": [
       "['Mercury', 'Venus', 'Earth', 'Mars']"
      ]
     },
     "execution_count": 14,
     "metadata": {},
     "output_type": "execute_result"
    }
   ],
   "source": [
    "planets [0:4]"
   ]
  },
  {
   "cell_type": "markdown",
   "metadata": {},
   "source": [
    "4.Iterate through your planets and print the planet name only if it has an s at the end"
   ]
  },
  {
   "cell_type": "code",
   "execution_count": 15,
   "metadata": {},
   "outputs": [
    {
     "name": "stdout",
     "output_type": "stream",
     "text": [
      "Venus\n",
      "Mars\n",
      "Uranus\n"
     ]
    }
   ],
   "source": [
    "for i in range(len(planets)):\n",
    "    planetstring=planets[i]\n",
    "    if planetstring[-1] == 's':\n",
    "        print(planetstring)\n",
    "    "
   ]
  },
  {
   "cell_type": "markdown",
   "metadata": {},
   "source": [
    "Part II: Dictionaries"
   ]
  },
  {
   "cell_type": "markdown",
   "metadata": {},
   "source": [
    "1. Now create a dictionary that maps each planet name to its mass"
   ]
  },
  {
   "cell_type": "code",
   "execution_count": 16,
   "metadata": {},
   "outputs": [
    {
     "data": {
      "text/plain": [
       "{'Mercury': 0.33,\n",
       " 'Venus': 4.87,\n",
       " 'Earth': 5.97,\n",
       " 'Mars': 0.642,\n",
       " 'Jupiter': 1898,\n",
       " 'Saturn': 568,\n",
       " 'Uranus': 86.8,\n",
       " 'Neptune': 102}"
      ]
     },
     "execution_count": 16,
     "metadata": {},
     "output_type": "execute_result"
    }
   ],
   "source": [
    "planet_mass = {'Mercury':0.33,'Venus':4.87,'Earth':5.97,'Mars':0.642,'Jupiter':1898,'Saturn':568,'Uranus':86.8,'Neptune':102 }\n",
    "planet_mass"
   ]
  },
  {
   "cell_type": "markdown",
   "metadata": {},
   "source": [
    "2. Use your dictionary to look up Earth’s mass"
   ]
  },
  {
   "cell_type": "code",
   "execution_count": 17,
   "metadata": {},
   "outputs": [
    {
     "name": "stdout",
     "output_type": "stream",
     "text": [
      "5.97*10^24\n"
     ]
    }
   ],
   "source": [
    "print (str(planet_mass['Earth'])+ '*10^24')"
   ]
  },
  {
   "cell_type": "markdown",
   "metadata": {},
   "source": [
    "3. Loop through the data and create a list of planets whose mass is greater than 100 x 10^24 kg. Display your result"
   ]
  },
  {
   "cell_type": "code",
   "execution_count": 18,
   "metadata": {},
   "outputs": [
    {
     "name": "stdout",
     "output_type": "stream",
     "text": [
      "['Jupiter', 'Saturn', 'Neptune']\n"
     ]
    },
    {
     "data": {
      "text/plain": [
       "list"
      ]
     },
     "execution_count": 18,
     "metadata": {},
     "output_type": "execute_result"
    }
   ],
   "source": [
    "planets2=[]\n",
    "for planets, mass in planet_mass.items():\n",
    "    if mass>100:\n",
    "        planets2.append(planets)\n",
    "        #print(planets2)\n",
    "        \n",
    "\n",
    "print(planets2)\n",
    "type(planets2)"
   ]
  },
  {
   "cell_type": "markdown",
   "metadata": {},
   "source": [
    "4. Now add pluto to your dictionary"
   ]
  },
  {
   "cell_type": "code",
   "execution_count": 19,
   "metadata": {},
   "outputs": [
    {
     "name": "stdout",
     "output_type": "stream",
     "text": [
      "{'Mercury': 0.33, 'Venus': 4.87, 'Earth': 5.97, 'Mars': 0.642, 'Jupiter': 1898, 'Saturn': 568, 'Uranus': 86.8, 'Neptune': 102, 'Pluto': 0.013}\n"
     ]
    }
   ],
   "source": [
    "planet_mass['Pluto']=0.0130\n",
    "print(planet_mass)"
   ]
  },
  {
   "cell_type": "markdown",
   "metadata": {},
   "source": [
    "Part III: Functions\n",
    "1. Write a function to convert temperature from kelvin to celsius\n",
    "and celsius to kelvin"
   ]
  },
  {
   "cell_type": "code",
   "execution_count": 20,
   "metadata": {},
   "outputs": [
    {
     "name": "stdout",
     "output_type": "stream",
     "text": [
      "283.15 K\n",
      "-273.15 °C\n"
     ]
    }
   ],
   "source": [
    "def tempconverter(celsius,kelvin =False):\n",
    "    if celsius:\n",
    "        temp = celsius+273.15\n",
    "    else:\n",
    "        temp = celsius-273.15\n",
    "    return (temp)\n",
    "\n",
    "#Example Usage\n",
    "#Convert 10°C to Kelvin\n",
    "degree_celsius = tempconverter(10, kelvin=True)\n",
    "print(str (degree_celsius)+ '', 'K')\n",
    "#Convert 0 Kelvin to degree celsius\n",
    "Kelvin = tempconverter(0, kelvin=False)\n",
    "print(str (Kelvin)+\"\",'°C')"
   ]
  },
  {
   "cell_type": "markdown",
   "metadata": {},
   "source": [
    "2. Write a function to convert temperature to fahrenheit. Include an optional keyword argument to specify whether the input is in celcius or kelvin. Call your previously defined functions if necessary.\n"
   ]
  },
  {
   "cell_type": "code",
   "execution_count": 21,
   "metadata": {},
   "outputs": [],
   "source": [
    "def fahrenheit (temp, input):\n",
    "    if input == \"°C\":\n",
    "        temp=(temp*(9/5) + 32)\n",
    "    elif input == \"K\":\n",
    "        temp =(temp*(9/5) - 459.67)\n",
    "    else:\n",
    "        raise ValueError(\"enter input as '°C' or 'K'.\")\n",
    "    return (temp)\n"
   ]
  },
  {
   "cell_type": "markdown",
   "metadata": {},
   "source": [
    "3. Check that the outputs are sensible"
   ]
  },
  {
   "cell_type": "markdown",
   "metadata": {},
   "source": [
    "a). Example using a dataframe with temp values in K"
   ]
  },
  {
   "cell_type": "code",
   "execution_count": 22,
   "metadata": {},
   "outputs": [
    {
     "name": "stdout",
     "output_type": "stream",
     "text": [
      "   Values\n",
      "0 -459.67\n",
      "1 -441.67\n",
      "2 -423.67\n",
      "3 -405.67\n",
      "4 -387.67 °F\n"
     ]
    }
   ],
   "source": [
    "import pandas as pd\n",
    "df = pd.DataFrame({'Values': [0, 10, 20, 30, 40]})\n",
    "T_F = fahrenheit(df, \"K\")\n",
    "print (str (T_F)+\"\",'°F')"
   ]
  },
  {
   "cell_type": "markdown",
   "metadata": {},
   "source": [
    "b). Example using a dataframe with temp values in °C"
   ]
  },
  {
   "cell_type": "code",
   "execution_count": 23,
   "metadata": {},
   "outputs": [
    {
     "name": "stdout",
     "output_type": "stream",
     "text": [
      "   Values\n",
      "0    32.0\n",
      "1    50.0\n",
      "2    68.0\n",
      "3    86.0\n",
      "4   104.0 °C\n"
     ]
    }
   ],
   "source": [
    "df1 = pd.DataFrame({'Values': [0, 10, 20, 30, 40]})\n",
    "T_F = fahrenheit(df1, \"°C\")\n",
    "print (str (T_F)+\"\",'°C')"
   ]
  },
  {
   "cell_type": "markdown",
   "metadata": {},
   "source": [
    "4. Now write a function that converts from Fahrenheit and uses a keyword argument to specify whether you want the output in Celcius or Lelvin"
   ]
  },
  {
   "cell_type": "code",
   "execution_count": 24,
   "metadata": {},
   "outputs": [],
   "source": [
    "def fahrenheittoKC (temp, input):\n",
    "    if input == \"°C\":\n",
    "        temp=(temp-32)*5/9\n",
    "    elif input == \"K\":\n",
    "        temp =(temp++ 459.67*(5/9) )\n",
    "    else:\n",
    "        raise ValueError(\"enter input as '°C' or 'K'.\")\n",
    "    return (temp)\n",
    "\n",
    "#fahrenheittoKC(0, \"K\")"
   ]
  },
  {
   "cell_type": "markdown",
   "metadata": {},
   "source": [
    "5. Write a function that takes two arguments (feet and inches) and returns height in meters"
   ]
  },
  {
   "cell_type": "code",
   "execution_count": 25,
   "metadata": {},
   "outputs": [
    {
     "name": "stdout",
     "output_type": "stream",
     "text": [
      "0.0254\n",
      "0.0508\n",
      "0.07619999999999999\n",
      "1.778\n"
     ]
    }
   ],
   "source": [
    "def ftinchtometers(ft,inch):\n",
    "    meters=(ft*0.3048)+(inch*0.0254)\n",
    "    return meters\n",
    "\n",
    "#Example\n",
    "print(ftinchtometers (0,1))\n",
    "print(ftinchtometers (0,2))\n",
    "print (ftinchtometers (0,3))\n",
    "print (ftinchtometers (5,10))"
   ]
  },
  {
   "cell_type": "markdown",
   "metadata": {},
   "source": [
    "6. Write a function takes one argument (height in meters) and returns two arguments (feet and inches)"
   ]
  },
  {
   "cell_type": "code",
   "execution_count": 74,
   "metadata": {},
   "outputs": [
    {
     "name": "stdout",
     "output_type": "stream",
     "text": [
      "6 6.740157480314963\n"
     ]
    }
   ],
   "source": [
    "def m_ftInch(meters):\n",
    "    total_inches = meters / 0.0254\n",
    "    feet = total_inches // 12\n",
    "    inches = total_inches % 12\n",
    "    return int(feet), inches\n",
    "\n",
    "\n",
    "meters = 2\n",
    "feet, inches = m_ftInch(meters)\n",
    "print(feet, inches)"
   ]
  },
  {
   "cell_type": "markdown",
   "metadata": {},
   "source": [
    "7. Verify that the “round trip” conversion from and back to meters is consistent"
   ]
  },
  {
   "cell_type": "code",
   "execution_count": 76,
   "metadata": {},
   "outputs": [
    {
     "name": "stdout",
     "output_type": "stream",
     "text": [
      "6 6.740157480314963\n",
      "2.0000000000000004\n"
     ]
    }
   ],
   "source": [
    "# Meters to ft, Inches\n",
    "meters = 2\n",
    "feet, inches = m_ftInch(meters)\n",
    "print(feet, inches)\n",
    "\n",
    "#feet + inches to meters\n",
    "print(ftinchtometers (6, 6.740157480314963))"
   ]
  }
 ],
 "metadata": {
  "kernelspec": {
   "display_name": "Python 3",
   "language": "python",
   "name": "python3"
  },
  "language_info": {
   "codemirror_mode": {
    "name": "ipython",
    "version": 3
   },
   "file_extension": ".py",
   "mimetype": "text/x-python",
   "name": "python",
   "nbconvert_exporter": "python",
   "pygments_lexer": "ipython3",
   "version": "3.10.0"
  }
 },
 "nbformat": 4,
 "nbformat_minor": 2
}
